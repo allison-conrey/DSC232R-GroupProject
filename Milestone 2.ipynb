{
 "cells": [
  {
   "cell_type": "markdown",
   "id": "2a631118-a797-444a-9aab-f603d095d190",
   "metadata": {},
   "source": [
    "### Importing Data"
   ]
  },
  {
   "cell_type": "code",
   "execution_count": 1,
   "id": "eadbac35-8f98-45f6-993c-d77869a861b1",
   "metadata": {},
   "outputs": [
    {
     "name": "stderr",
     "output_type": "stream",
     "text": [
      "Setting default log level to \"WARN\".\n",
      "To adjust logging level use sc.setLogLevel(newLevel). For SparkR, use setLogLevel(newLevel).\n",
      "24/04/29 15:04:25 WARN NativeCodeLoader: Unable to load native-hadoop library for your platform... using builtin-java classes where applicable\n",
      "24/04/29 15:04:27 WARN Utils: Service 'SparkUI' could not bind on port 4040. Attempting port 4041.\n"
     ]
    }
   ],
   "source": [
    "from pyspark.sql import SparkSession\n",
    "from pyspark.sql.types import *\n",
    "from pyspark.sql.functions import *\n",
    "\n",
    "spark = SparkSession \\\n",
    "    .builder \\\n",
    "    .appName(\"Python Spark SQL basic example\") \\\n",
    "    .getOrCreate()"
   ]
  },
  {
   "cell_type": "code",
   "execution_count": 2,
   "id": "52e07951-92f4-421d-8363-8e5373c8f1dd",
   "metadata": {},
   "outputs": [],
   "source": [
    "text_rdd = spark.sparkContext.textFile('adult100m')\n",
    "text_rdd_cleaned = text_rdd.map(lambda x: tuple(x.split(',')))"
   ]
  },
  {
   "cell_type": "code",
   "execution_count": 3,
   "id": "12b73411-63a4-4116-98d2-114d1b1fe9b6",
   "metadata": {},
   "outputs": [],
   "source": [
    "schema = StructType([\n",
    "    StructField(\"Age\", StringType(), True),  \n",
    "    StructField(\"Workclass\", StringType(), True),\n",
    "    StructField(\"Fnlwgt\", StringType(), True),\n",
    "    StructField(\"Education\", StringType(), True),\n",
    "    StructField(\"EducationNum\", StringType(), True),\n",
    "    StructField(\"MaritalStatus\", StringType(), True),\n",
    "    StructField(\"Occupation\", StringType(), True),\n",
    "    StructField(\"Relationship\", StringType(), True),\n",
    "    StructField(\"Race\", StringType(), True),\n",
    "    StructField(\"Sex\", StringType(), True),\n",
    "    StructField(\"CapitalGain\", StringType(), True),\n",
    "    StructField(\"CapitalLoss\", StringType(), True),\n",
    "    StructField(\"HoursPerWeek\", StringType(), True),\n",
    "    StructField(\"NativeCountry\", StringType(), True),\n",
    "    StructField(\"Income\", StringType(), True)\n",
    "])\n",
    "\n",
    "spark_dataframe = spark.createDataFrame(text_rdd_cleaned, schema)"
   ]
  },
  {
   "cell_type": "code",
   "execution_count": 4,
   "id": "1575897d-0911-4569-b8c5-5def085e886c",
   "metadata": {},
   "outputs": [
    {
     "name": "stderr",
     "output_type": "stream",
     "text": [
      "24/04/29 15:04:40 WARN PythonRunner: Detected deadlock while completing task 0.0 in stage 0 (TID 0): Attempting to kill Python Worker\n",
      "                                                                                \r"
     ]
    },
    {
     "name": "stdout",
     "output_type": "stream",
     "text": [
      "+---+----------------+------+---------+------------+------------------+-----------------+-------------+-----+------+-----------+-----------+------------+-------------+------+\n",
      "|Age|       Workclass|Fnlwgt|Education|EducationNum|     MaritalStatus|       Occupation| Relationship| Race|   Sex|CapitalGain|CapitalLoss|HoursPerWeek|NativeCountry|Income|\n",
      "+---+----------------+------+---------+------------+------------------+-----------------+-------------+-----+------+-----------+-----------+------------+-------------+------+\n",
      "| 39|       State-gov| 77516|Bachelors|          13|     Never-married|     Adm-clerical|Not-in-family|White|  Male|       2174|          0|          40|United-States| <=50K|\n",
      "| 50|Self-emp-not-inc| 83311|Bachelors|          13|Married-civ-spouse|  Exec-managerial|      Husband|White|  Male|          0|          0|          13|United-States| <=50K|\n",
      "| 38|         Private|215646|  HS-grad|           9|          Divorced|Handlers-cleaners|Not-in-family|White|  Male|          0|          0|          40|United-States| <=50K|\n",
      "| 53|         Private|234721|     11th|           7|Married-civ-spouse|Handlers-cleaners|      Husband|Black|  Male|          0|          0|          40|United-States| <=50K|\n",
      "| 28|         Private|338409|Bachelors|          13|Married-civ-spouse|   Prof-specialty|         Wife|Black|Female|          0|          0|          40|         Cuba| <=50K|\n",
      "+---+----------------+------+---------+------------+------------------+-----------------+-------------+-----+------+-----------+-----------+------------+-------------+------+\n",
      "only showing top 5 rows\n",
      "\n"
     ]
    }
   ],
   "source": [
    "spark_dataframe.show(5)"
   ]
  },
  {
   "cell_type": "markdown",
   "id": "5348f5e5-739e-4cdc-a67d-8f372eefd6fe",
   "metadata": {},
   "source": [
    "### Data Exploration "
   ]
  },
  {
   "cell_type": "code",
   "execution_count": null,
   "id": "2d00d0d0-17ee-4660-ac52-3a390ca8953f",
   "metadata": {},
   "outputs": [
    {
     "name": "stderr",
     "output_type": "stream",
     "text": [
      "[Stage 1:=========================>                             (160 + 8) / 341]\r"
     ]
    }
   ],
   "source": [
    "# How many records in this dataframe? \n",
    "spark_dataframe.count()"
   ]
  },
  {
   "cell_type": "code",
   "execution_count": null,
   "id": "f19053be-8e74-4a28-90f6-387e014e3154",
   "metadata": {},
   "outputs": [],
   "source": [
    "# Data Type Handling \n",
    "NumericalDataType = ['Age', 'Fnlwgt', 'EducationNum', 'CapitalGain', 'CapitalLoss', 'HoursPerWeek']\n",
    "\n",
    "for col_name in NumericalDataType:\n",
    "    spark_dataframe = spark_dataframe.withColumn(col_name, col(col_name).cast('float'))\n"
   ]
  },
  {
   "cell_type": "code",
   "execution_count": null,
   "id": "5b3a5403-4a8d-43d3-aea8-43590a44e9f5",
   "metadata": {},
   "outputs": [],
   "source": [
    "# Scales of the Data\n"
   ]
  },
  {
   "cell_type": "code",
   "execution_count": null,
   "id": "eee1f03e-ac3d-425d-8a5c-8dc9455092e5",
   "metadata": {},
   "outputs": [],
   "source": [
    "# Missing Data / Imputations \n"
   ]
  },
  {
   "cell_type": "code",
   "execution_count": null,
   "id": "43c12bc2-61b7-4f4d-857a-d7853e712758",
   "metadata": {},
   "outputs": [],
   "source": [
    "# Column Descriptions \n"
   ]
  },
  {
   "cell_type": "markdown",
   "id": "a9c1f9bf-cca3-4ea6-a738-f2d457ede85e",
   "metadata": {},
   "source": [
    "### Data Visualization"
   ]
  },
  {
   "cell_type": "code",
   "execution_count": null,
   "id": "11651618-47c1-4a5c-857d-14d384875097",
   "metadata": {},
   "outputs": [],
   "source": []
  },
  {
   "cell_type": "code",
   "execution_count": null,
   "id": "405995b3-12d6-41c0-a984-a80f7912e091",
   "metadata": {},
   "outputs": [],
   "source": []
  },
  {
   "cell_type": "markdown",
   "id": "45375004-1c98-43fe-ae7b-162990c71787",
   "metadata": {},
   "source": [
    "### Data Preprocessing"
   ]
  },
  {
   "cell_type": "code",
   "execution_count": null,
   "id": "dc9d145a-7fc0-4fd3-86a5-d277f563f7ab",
   "metadata": {},
   "outputs": [],
   "source": []
  },
  {
   "cell_type": "markdown",
   "id": "c13c6849-a7f6-44ab-b28e-e1eb82d219d8",
   "metadata": {},
   "source": [
    "### Data Download and Requirements"
   ]
  }
 ],
 "metadata": {
  "kernelspec": {
   "display_name": "Python 3 (ipykernel)",
   "language": "python",
   "name": "python3"
  },
  "language_info": {
   "codemirror_mode": {
    "name": "ipython",
    "version": 3
   },
   "file_extension": ".py",
   "mimetype": "text/x-python",
   "name": "python",
   "nbconvert_exporter": "python",
   "pygments_lexer": "ipython3",
   "version": "3.11.5"
  }
 },
 "nbformat": 4,
 "nbformat_minor": 5
}
