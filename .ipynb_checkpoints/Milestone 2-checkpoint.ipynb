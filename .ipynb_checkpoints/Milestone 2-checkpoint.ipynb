{
 "cells": [
  {
   "cell_type": "markdown",
   "id": "2a631118-a797-444a-9aab-f603d095d190",
   "metadata": {},
   "source": [
    "### Importing Data"
   ]
  },
  {
   "cell_type": "code",
   "execution_count": 1,
   "id": "eadbac35-8f98-45f6-993c-d77869a861b1",
   "metadata": {},
   "outputs": [
    {
     "name": "stderr",
     "output_type": "stream",
     "text": [
      "Setting default log level to \"WARN\".\n",
      "To adjust logging level use sc.setLogLevel(newLevel). For SparkR, use setLogLevel(newLevel).\n",
      "24/04/29 17:04:57 WARN NativeCodeLoader: Unable to load native-hadoop library for your platform... using builtin-java classes where applicable\n",
      "24/04/29 17:04:58 WARN Utils: Service 'SparkUI' could not bind on port 4040. Attempting port 4041.\n",
      "24/04/29 17:04:58 WARN Utils: Service 'SparkUI' could not bind on port 4041. Attempting port 4042.\n"
     ]
    }
   ],
   "source": [
    "from pyspark.sql import SparkSession\n",
    "from pyspark.sql.types import *\n",
    "from pyspark.sql.functions import *\n",
    "\n",
    "spark = SparkSession \\\n",
    "    .builder \\\n",
    "    .appName(\"Python Spark SQL basic example\") \\\n",
    "    .getOrCreate()"
   ]
  },
  {
   "cell_type": "code",
   "execution_count": 2,
   "id": "52e07951-92f4-421d-8363-8e5373c8f1dd",
   "metadata": {},
   "outputs": [],
   "source": [
    "text_rdd = spark.sparkContext.textFile('adult100m')\n",
    "text_rdd_cleaned = text_rdd.map(lambda x: tuple(x.split(',')))"
   ]
  },
  {
   "cell_type": "code",
   "execution_count": 3,
   "id": "12b73411-63a4-4116-98d2-114d1b1fe9b6",
   "metadata": {},
   "outputs": [],
   "source": [
    "schema = StructType([\n",
    "    StructField(\"Age\", StringType(), True),  \n",
    "    StructField(\"WorkClass\", StringType(), True),\n",
    "    StructField(\"Fnlwgt\", StringType(), True),\n",
    "    StructField(\"Education\", StringType(), True),\n",
    "    StructField(\"EducationNum\", StringType(), True),\n",
    "    StructField(\"MaritalStatus\", StringType(), True),\n",
    "    StructField(\"Occupation\", StringType(), True),\n",
    "    StructField(\"Relationship\", StringType(), True),\n",
    "    StructField(\"Race\", StringType(), True),\n",
    "    StructField(\"Sex\", StringType(), True),\n",
    "    StructField(\"CapitalGain\", StringType(), True),\n",
    "    StructField(\"CapitalLoss\", StringType(), True),\n",
    "    StructField(\"HoursPerWeek\", StringType(), True),\n",
    "    StructField(\"NativeCountry\", StringType(), True),\n",
    "    StructField(\"Income\", StringType(), True)\n",
    "])\n",
    "\n",
    "spark_dataframe = spark.createDataFrame(text_rdd_cleaned, schema)"
   ]
  },
  {
   "cell_type": "code",
   "execution_count": 4,
   "id": "1575897d-0911-4569-b8c5-5def085e886c",
   "metadata": {},
   "outputs": [
    {
     "name": "stderr",
     "output_type": "stream",
     "text": [
      "24/04/29 17:05:12 WARN PythonRunner: Detected deadlock while completing task 0.0 in stage 0 (TID 0): Attempting to kill Python Worker\n",
      "                                                                                \r"
     ]
    },
    {
     "name": "stdout",
     "output_type": "stream",
     "text": [
      "+---+----------------+------+---------+------------+------------------+-----------------+-------------+-----+------+-----------+-----------+------------+-------------+------+\n",
      "|Age|       WorkClass|Fnlwgt|Education|EducationNum|     MaritalStatus|       Occupation| Relationship| Race|   Sex|CapitalGain|CapitalLoss|HoursPerWeek|NativeCountry|Income|\n",
      "+---+----------------+------+---------+------------+------------------+-----------------+-------------+-----+------+-----------+-----------+------------+-------------+------+\n",
      "| 39|       State-gov| 77516|Bachelors|          13|     Never-married|     Adm-clerical|Not-in-family|White|  Male|       2174|          0|          40|United-States| <=50K|\n",
      "| 50|Self-emp-not-inc| 83311|Bachelors|          13|Married-civ-spouse|  Exec-managerial|      Husband|White|  Male|          0|          0|          13|United-States| <=50K|\n",
      "| 38|         Private|215646|  HS-grad|           9|          Divorced|Handlers-cleaners|Not-in-family|White|  Male|          0|          0|          40|United-States| <=50K|\n",
      "| 53|         Private|234721|     11th|           7|Married-civ-spouse|Handlers-cleaners|      Husband|Black|  Male|          0|          0|          40|United-States| <=50K|\n",
      "| 28|         Private|338409|Bachelors|          13|Married-civ-spouse|   Prof-specialty|         Wife|Black|Female|          0|          0|          40|         Cuba| <=50K|\n",
      "+---+----------------+------+---------+------------+------------------+-----------------+-------------+-----+------+-----------+-----------+------------+-------------+------+\n",
      "only showing top 5 rows\n",
      "\n"
     ]
    }
   ],
   "source": [
    "spark_dataframe.show(5)"
   ]
  },
  {
   "cell_type": "markdown",
   "id": "5348f5e5-739e-4cdc-a67d-8f372eefd6fe",
   "metadata": {},
   "source": [
    "### Data Exploration "
   ]
  },
  {
   "cell_type": "code",
   "execution_count": 5,
   "id": "2d00d0d0-17ee-4660-ac52-3a390ca8953f",
   "metadata": {},
   "outputs": [
    {
     "name": "stderr",
     "output_type": "stream",
     "text": [
      "                                                                                \r"
     ]
    },
    {
     "data": {
      "text/plain": [
       "100000000"
      ]
     },
     "execution_count": 5,
     "metadata": {},
     "output_type": "execute_result"
    }
   ],
   "source": [
    "# How many records in this dataframe? \n",
    "spark_dataframe.count()"
   ]
  },
  {
   "cell_type": "code",
   "execution_count": 6,
   "id": "f19053be-8e74-4a28-90f6-387e014e3154",
   "metadata": {},
   "outputs": [],
   "source": [
    "# Data Type Handling \n",
    "NumericalDataType = ['Age', 'Fnlwgt', 'EducationNum', 'CapitalGain', 'CapitalLoss', 'HoursPerWeek']\n",
    "\n",
    "for col_name in NumericalDataType:\n",
    "    spark_dataframe = spark_dataframe.withColumn(col_name, col(col_name).cast('float'))"
   ]
  },
  {
   "cell_type": "code",
   "execution_count": 7,
   "id": "eee1f03e-ac3d-425d-8a5c-8dc9455092e5",
   "metadata": {},
   "outputs": [
    {
     "name": "stderr",
     "output_type": "stream",
     "text": [
      "[Stage 4:======================================================>(340 + 1) / 341]\r"
     ]
    },
    {
     "name": "stdout",
     "output_type": "stream",
     "text": [
      "+---+---------+------+---------+------------+-------------+----------+------------+----+---+-----------+-----------+------------+-------------+------+\n",
      "|Age|WorkClass|Fnlwgt|Education|EducationNum|MaritalStatus|Occupation|Relationship|Race|Sex|CapitalGain|CapitalLoss|HoursPerWeek|NativeCountry|Income|\n",
      "+---+---------+------+---------+------------+-------------+----------+------------+----+---+-----------+-----------+------------+-------------+------+\n",
      "|  0|        0|     0|        0|           0|            0|         0|           0|   0|  0|          0|          0|           0|            0|     0|\n",
      "+---+---------+------+---------+------------+-------------+----------+------------+----+---+-----------+-----------+------------+-------------+------+\n",
      "\n"
     ]
    },
    {
     "name": "stderr",
     "output_type": "stream",
     "text": [
      "                                                                                \r"
     ]
    }
   ],
   "source": [
    "# Missing Data / Imputations \n",
    "null_counts = spark_dataframe.select(*(sum(col(c).isNull().cast(\"int\")).alias(c) for c in spark_dataframe.columns))\n",
    "null_counts.show()"
   ]
  },
  {
   "cell_type": "markdown",
   "id": "855533d0-d169-4f8e-b44d-4be68c2a0cfe",
   "metadata": {},
   "source": [
    "#### Column Descriptions \n",
    "- Age : Age of person in years (Integer)\n",
    "- WorkClass : Type of work that the person does (Catergorical)\n",
    "- Fnlwgt : ? (Integer)\n",
    "- Education : Highest Level of Education (Catergorical)\n",
    "- EducationNum : Number of years completed of education (Integer) \n",
    "- MaritalStatus : Marital status of the person (Catergorical)\n",
    "- Occupation : Person's profession (Catergorical) \n",
    "- Relationship : Familial status of the person (Catergorical)\n",
    "- Race : Race of person (Catergorical)\n",
    "- Sex : Sex of person (Catergorical)\n",
    "- CapitalGain : ? (Integer)\n",
    "- CapitalLoss : ? (Integer)\n",
    "- HoursPerWeek : Hours per week that the person words (Integer) \n",
    "- NativeCountry : Country where the person lives (Catergorical) \n",
    "- Income : Whether or not the person makes over or under $50k (Catergorical) "
   ]
  },
  {
   "cell_type": "markdown",
   "id": "a9c1f9bf-cca3-4ea6-a738-f2d457ede85e",
   "metadata": {},
   "source": [
    "### Data Visualization"
   ]
  },
  {
   "cell_type": "code",
   "execution_count": 8,
   "id": "a4bf9924-72ea-49d7-aebe-47db4b2c365a",
   "metadata": {},
   "outputs": [],
   "source": [
    "import seaborn as sns\n",
    "import matplotlib.pyplot as plt"
   ]
  },
  {
   "cell_type": "code",
   "execution_count": 9,
   "id": "509e30d5-8cfa-426a-ac30-ea7d6650e5c9",
   "metadata": {},
   "outputs": [
    {
     "name": "stderr",
     "output_type": "stream",
     "text": [
      "                                                                                \r"
     ]
    },
    {
     "data": {
      "text/plain": [
       "100365"
      ]
     },
     "execution_count": 9,
     "metadata": {},
     "output_type": "execute_result"
    }
   ],
   "source": [
    "sampled_df = spark_dataframe.sample(withReplacement = False, fraction = 0.001, seed = 505)\n",
    "sampled_df.count()"
   ]
  },
  {
   "cell_type": "markdown",
   "id": "680b206c-6048-4a71-bb35-ca16f4ef339b",
   "metadata": {},
   "source": [
    "#### Numerical Variables"
   ]
  },
  {
   "cell_type": "code",
   "execution_count": null,
   "id": "11651618-47c1-4a5c-857d-14d384875097",
   "metadata": {},
   "outputs": [
    {
     "name": "stdout",
     "output_type": "stream",
     "text": [
      "Age\n"
     ]
    },
    {
     "name": "stderr",
     "output_type": "stream",
     "text": [
      "[Stage 10:=================>                                    (112 + 8) / 341]\r"
     ]
    }
   ],
   "source": [
    "NumericalDataType = ['Age', 'Fnlwgt', 'EducationNum', 'CapitalGain', 'CapitalLoss', 'HoursPerWeek']\n",
    "\n",
    "for i in NumericalDataType:\n",
    "\n",
    "    print(i)\n",
    "    hist_data = sampled_df.select(i).rdd.flatMap(lambda x: x).histogram(10)\n",
    "    bins = hist_data[0]\n",
    "    frequencies = hist_data[1]\n",
    "    plt.bar(bins[:-1], frequencies, width=bins[1]-bins[0])\n",
    "    plt.xlabel(i)\n",
    "    plt.ylabel('Frequency')\n",
    "    plt.title('Histogram of {}'.format(i))\n",
    "    plt.show()"
   ]
  },
  {
   "cell_type": "code",
   "execution_count": null,
   "id": "405995b3-12d6-41c0-a984-a80f7912e091",
   "metadata": {},
   "outputs": [],
   "source": [
    "heatmap_data = sampled_df.select(NumericalDataType).toPandas()"
   ]
  },
  {
   "cell_type": "code",
   "execution_count": null,
   "id": "86f5cff9-cec8-4423-a533-afbd177b9a71",
   "metadata": {},
   "outputs": [],
   "source": [
    "sns.heatmap(heatmap_data)"
   ]
  },
  {
   "cell_type": "markdown",
   "id": "b47147fe-e81f-4ada-9ad3-8a9f90947edf",
   "metadata": {},
   "source": [
    "#### Catergorical Variables"
   ]
  },
  {
   "cell_type": "code",
   "execution_count": null,
   "id": "e7a09825-48da-4662-a0bb-6160d3494c17",
   "metadata": {},
   "outputs": [],
   "source": [
    "list_of_columns = list(spark_dataframe.columns)\n",
    "print(list_of_columns)\n",
    "\n",
    "NumericalDataType = ['Age', 'Fnlwgt', 'EducationNum', 'CapitalGain', 'CapitalLoss', 'HoursPerWeek', 'Education']\n",
    "\n",
    "CatergoricalDataType = list_of_columns.remove(NumericalDataType)"
   ]
  },
  {
   "cell_type": "code",
   "execution_count": null,
   "id": "ea87ed48-16f3-4815-80ba-92a5e5f9aa5a",
   "metadata": {},
   "outputs": [],
   "source": [
    "for i in CatergoricalDataType:\n",
    "    \n",
    "    print(i)\n",
    "    value_counts = sampled_df.groupBy(i).count().orderBy(i).collect()\n",
    "    \n",
    "    values = [row[i] for row in value_counts]\n",
    "    frequencies = [row['count'] for row in value_counts]\n",
    "    \n",
    "    plt.bar(values, frequencies)\n",
    "    plt.xlabel(i)\n",
    "    plt.ylabel('Frequency')\n",
    "    plt.title('Bar plot of {}'.format(i))\n",
    "    plt.show()"
   ]
  },
  {
   "cell_type": "markdown",
   "id": "63dfc3b2-be6e-4e2f-9a5d-3bb9f9b70aca",
   "metadata": {},
   "source": [
    "#### Response Variables"
   ]
  },
  {
   "cell_type": "code",
   "execution_count": null,
   "id": "f898a23f-52a4-4652-b3cc-ed50e246ab83",
   "metadata": {},
   "outputs": [],
   "source": []
  },
  {
   "cell_type": "markdown",
   "id": "45375004-1c98-43fe-ae7b-162990c71787",
   "metadata": {},
   "source": [
    "### Data Preprocessing"
   ]
  },
  {
   "cell_type": "markdown",
   "id": "8ba93303-c617-4569-a3d8-50c8e2d055b3",
   "metadata": {},
   "source": [
    "- Data types have been changed above for ease of visualization.\n",
    "- There doesn't seem to be extreme outliers."
   ]
  },
  {
   "cell_type": "code",
   "execution_count": null,
   "id": "dc9d145a-7fc0-4fd3-86a5-d277f563f7ab",
   "metadata": {},
   "outputs": [],
   "source": []
  },
  {
   "cell_type": "markdown",
   "id": "c13c6849-a7f6-44ab-b28e-e1eb82d219d8",
   "metadata": {},
   "source": [
    "### Data Download and Requirements"
   ]
  },
  {
   "cell_type": "markdown",
   "id": "a5a43a99-0d3a-49fa-90b6-8fe2e5817410",
   "metadata": {},
   "source": [
    "- Data can be downloaded off : https://www.kaggle.com/datasets/brijeshbmehta/adult-datasets"
   ]
  }
 ],
 "metadata": {
  "kernelspec": {
   "display_name": "Python 3 (ipykernel)",
   "language": "python",
   "name": "python3"
  },
  "language_info": {
   "codemirror_mode": {
    "name": "ipython",
    "version": 3
   },
   "file_extension": ".py",
   "mimetype": "text/x-python",
   "name": "python",
   "nbconvert_exporter": "python",
   "pygments_lexer": "ipython3",
   "version": "3.11.5"
  }
 },
 "nbformat": 4,
 "nbformat_minor": 5
}
